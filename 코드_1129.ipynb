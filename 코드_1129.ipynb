{
  "nbformat": 4,
  "nbformat_minor": 0,
  "metadata": {
    "colab": {
      "provenance": [],
      "authorship_tag": "ABX9TyNGaHppnofr01tK1iW/MmpY",
      "include_colab_link": true
    },
    "kernelspec": {
      "name": "python3",
      "display_name": "Python 3"
    },
    "language_info": {
      "name": "python"
    }
  },
  "cells": [
    {
      "cell_type": "markdown",
      "metadata": {
        "id": "view-in-github",
        "colab_type": "text"
      },
      "source": [
        "<a href=\"https://colab.research.google.com/github/hyebinkang/practice_code/blob/main/%EC%BD%94%EB%93%9C_1129.ipynb\" target=\"_parent\"><img src=\"https://colab.research.google.com/assets/colab-badge.svg\" alt=\"Open In Colab\"/></a>"
      ]
    },
    {
      "cell_type": "code",
      "execution_count": null,
      "metadata": {
        "colab": {
          "base_uri": "https://localhost:8080/"
        },
        "id": "izJ7lceIwMKY",
        "outputId": "df6ae36e-c944-4219-8edf-8f8cf8845e24"
      },
      "outputs": [
        {
          "output_type": "stream",
          "name": "stdout",
          "text": [
            "5\n",
            "4 1 5 2 3\n",
            "5 \n",
            "1 3 7 9 5\n",
            "1\n",
            "1\n",
            "0\n",
            "0\n",
            "1\n"
          ]
        }
      ],
      "source": [
        "#백준 1920\n",
        "n = int(input())\n",
        "num = list(map(int, input().split()))\n",
        "num.sort()\n",
        "m = int(input())\n",
        "m_list = list(map(int, input().split()))\n",
        "\n",
        "# for i in m_list:                            #binary사용 x | pypy로 통과\n",
        "#   if i in num:\n",
        "#     print(1)\n",
        "#     continue\n",
        "#   else:\n",
        "#     print(0)\n",
        "#     continue\n",
        "\n",
        "def binary(i):                                #binary사용\n",
        "  first = 0                                   #시작값, 끝 값 \n",
        "  end = n-1\n",
        "\n",
        "  while first <= end:                         #시작 값이 end보다 작을 동안\n",
        "    mid = (first+end) // 2                    #중앙값 사용\n",
        "    if num[mid] == i:                         #중앙값과 i가 같으면 True반환\n",
        "      return True\n",
        "    if i <num[mid]:                           #i가 중앙값 보다 작으면 end값을 중앙값-1\n",
        "      end = mid-1\n",
        "    elif i > num[mid]:                        #i가 중앙값 보다 크다면 first+1\n",
        "      first = mid+1\n",
        "\n",
        "for i in range(m):\n",
        "  if binary(m_list[i]):\n",
        "    print(1)\n",
        "  else:\n",
        "    print(0)\n"
      ]
    },
    {
      "cell_type": "code",
      "source": [
        "#SWEA 10505\n",
        "t = int(input())\n",
        "for _ in range(t):\n",
        "  n = int(input())\n",
        "  n_list = list(map(int, input().split()))\n",
        "  result = 0\n",
        "\n",
        "  avg = sum(n_list)//len(n_list)\n",
        "\n",
        "  for i in range(n):\n",
        "    if n_list[i] <=avg:\n",
        "      result +=1\n",
        "    else:\n",
        "      continue\n",
        "  print(\"#{0}\".format(_+1), result)"
      ],
      "metadata": {
        "colab": {
          "base_uri": "https://localhost:8080/"
        },
        "id": "jvZIDsplDofZ",
        "outputId": "dcb7d0b8-3882-4d4a-e31a-49129d6efde7"
      },
      "execution_count": null,
      "outputs": [
        {
          "output_type": "stream",
          "name": "stdout",
          "text": [
            "3\n",
            "7\n",
            "15 15 15 15 15 15 15\n",
            "#1 7\n",
            "10 \n",
            "1 1 1 1 1 1 1 1 1 100\n",
            "#2 9\n",
            "7\n",
            "2 7 1 8 2 8 4\n",
            "#3 4\n"
          ]
        }
      ]
    },
    {
      "cell_type": "code",
      "source": [
        "#SWEA 10726\n",
        "tc = int(input())\n",
        "\n",
        "for _ in range(tc):\n",
        "  n, m = map(int, input().split())\n",
        "  result = 'ON'             #결과를 ON으로 미리 초기화\n",
        "\n",
        "  for i in range(n):\n",
        "    if m%2 == 0:\n",
        "      result = 'OFF'        #꺼지는 것(=나머지가 0인)이 있을 때 OFF로 변환\n",
        "      break                 \n",
        "    else:\n",
        "      result = 'ON'         #하나도 꺼지지 않을 때\n",
        "      m//=2                 #m의 몫으로 계속 나누어 줌\n",
        "  print(result)\n"
      ],
      "metadata": {
        "colab": {
          "base_uri": "https://localhost:8080/"
        },
        "id": "f9bal4OdLQLu",
        "outputId": "271bd472-7e73-4420-8615-4f0777b8b935"
      },
      "execution_count": null,
      "outputs": [
        {
          "output_type": "stream",
          "name": "stdout",
          "text": [
            "5\n",
            "4 0\n",
            "OFF\n",
            "4 30\n",
            "OFF\n",
            "4 47\n",
            "ON\n",
            "5 31\n",
            "ON\n",
            "5 62\n",
            "OFF\n"
          ]
        }
      ]
    },
    {
      "cell_type": "code",
      "source": [
        "#SWEA 5549\n",
        "tc = int(input())\n",
        "\n",
        "for _ in range(tc):\n",
        "  n = list(str(input()))          #숫자를 str 리스트로 받음\n",
        "  \n",
        "  if len(n)==1:                   #1자리 수 일 때\n",
        "    if int(n[0])%2==0:            #2로 나누어 나머지가 0이면 짝수\n",
        "      print('Even')\n",
        "    else:\n",
        "      print('Odd')                #아니면 홀수\n",
        "  else:\n",
        "    if int(n[-1])%2 == 0:         #2자리 수 이상일 때\n",
        "      print('Even')               \n",
        "    else:\n",
        "      print('Odd')"
      ],
      "metadata": {
        "colab": {
          "base_uri": "https://localhost:8080/"
        },
        "id": "ifZgN2y3sdFI",
        "outputId": "25af9b3a-6910-4c11-b81c-91778883ad2d"
      },
      "execution_count": null,
      "outputs": [
        {
          "output_type": "stream",
          "name": "stdout",
          "text": [
            "1\n",
            "654987\n",
            "['6', '5', '4', '9', '8', '7']\n",
            "Odd\n"
          ]
        }
      ]
    },
    {
      "cell_type": "code",
      "source": [
        "#SWEA 3142\n",
        "tc = int(input())\n",
        "\n",
        "for _ in range(tc):\n",
        "  n, m = map(int, input().split())\n",
        "  print(\"#{} {} {}\".format(_+1, 2*m-n, n-m))"
      ],
      "metadata": {
        "colab": {
          "base_uri": "https://localhost:8080/"
        },
        "id": "NXI4BDrE2nhs",
        "outputId": "66874097-f181-41e4-f198-d05a9690615e"
      },
      "execution_count": null,
      "outputs": [
        {
          "output_type": "stream",
          "name": "stdout",
          "text": [
            "2\n",
            "5 3\n",
            "#1 1 2\n",
            "7 5\n",
            "#2 3 2\n"
          ]
        }
      ]
    }
  ]
}
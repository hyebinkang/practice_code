{
  "nbformat": 4,
  "nbformat_minor": 0,
  "metadata": {
    "colab": {
      "provenance": [],
      "authorship_tag": "ABX9TyOUCvlswExZ2HAGRCqpw1mw",
      "include_colab_link": true
    },
    "kernelspec": {
      "name": "python3",
      "display_name": "Python 3"
    },
    "language_info": {
      "name": "python"
    }
  },
  "cells": [
    {
      "cell_type": "markdown",
      "metadata": {
        "id": "view-in-github",
        "colab_type": "text"
      },
      "source": [
        "<a href=\"https://colab.research.google.com/github/hyebinkang/practice_code/blob/main/%EC%BD%94%EB%93%9C_1130.ipynb\" target=\"_parent\"><img src=\"https://colab.research.google.com/assets/colab-badge.svg\" alt=\"Open In Colab\"/></a>"
      ]
    },
    {
      "cell_type": "code",
      "execution_count": null,
      "metadata": {
        "colab": {
          "base_uri": "https://localhost:8080/"
        },
        "id": "b1iAfvEzwbfK",
        "outputId": "270dcd25-cd66-437e-d37c-f20472287140"
      },
      "outputs": [
        {
          "output_type": "stream",
          "name": "stdout",
          "text": [
            "1\n",
            "1\n",
            "2\n",
            "0\n",
            "3\n",
            "4\n",
            "0\n",
            "5\n",
            "6\n",
            "0\n",
            "7\n",
            "0\n",
            "-1\n",
            "empty\n"
          ]
        }
      ],
      "source": [
        "#백준 15828 -> 시간초과\n",
        "\n",
        "n = int(input())\n",
        "n_list = [][:n]\n",
        "\n",
        "while True:\n",
        "    num = int(input())\n",
        "    if len(n_list)==n:                #개수가 n개이면\n",
        "        if num ==-1:                  #-1입력 시 종료\n",
        "            False\n",
        "            break\n",
        "        elif num == 0:                #0일 때 가장 앞의 수 제거\n",
        "            n_list.remove(n_list[0])\n",
        "        else:\n",
        "            continue\n",
        "    else:\n",
        "        if num ==-1:                  \n",
        "            False\n",
        "            break\n",
        "        elif num == 0:\n",
        "            n_list.remove(n_list[0])\n",
        "        else:\n",
        "            n_list.append(num)        #개수가 n개가 아니고, num이 해당하지 않으면 추가\n",
        "            \n",
        "if not n_list:\n",
        "    print('empty')\n",
        "else:\n",
        "    for i in range(len(n_list)):\n",
        "        print(n_list[i], end=' ')"
      ]
    },
    {
      "cell_type": "code",
      "source": [
        "#백준 15828\n",
        "from collections import deque               #deque import\n",
        "import sys\n",
        "n = int(sys.stdin.readline()) \n",
        "\n",
        "n_list = deque()\n",
        "\n",
        "\n",
        "while True:\n",
        "    num = int(sys.stdin.readline())\n",
        "    \n",
        "    if num == -1:                             #-1일 때 break\n",
        "        break\n",
        "    elif num ==0 and len(n_list) !=0:         #수가 0이고, 리스트의 개수가 0이 아닐 때\n",
        "        n_list.popleft()                      #가장 앞 쪽 꺼내기\n",
        "    elif num !=0 and len(n_list) !=n:         #수가 0이 아니고, 리스트의 개수가 n일 때 \n",
        "        n_list.append(num)                    #수 추가하기\n",
        "\n",
        "if not n_list:\n",
        "    print('empty')\n",
        "else:\n",
        "    for i in range(len(n_list)):\n",
        "        print(n_list[i], end=' ')"
      ],
      "metadata": {
        "id": "gcvycZaF8YVD"
      },
      "execution_count": null,
      "outputs": []
    },
    {
      "cell_type": "code",
      "source": [
        "from collections import deque\n",
        "\n",
        "deq = deque()\n",
        "n = int(input())\n",
        "for _ in range(n):\n",
        "  order = list(map(str, input().split()))\n",
        "  \n",
        "  if order[0] == 'push_front':                  #push front일 때-> 가장 앞에 추가\n",
        "    deq.appendleft(int(order[1]))\n",
        "  elif order[0] == 'push_back':                 #push back -> 가장 뒤에 추가\n",
        "    deq.append(int(order[1]))\n",
        "  elif order[0] == 'pop_front':                 #pop_front-> 개수가 있으면 가장 앞에것 빼기, 없으면 -1\n",
        "    if not deq:\n",
        "      print(-1)\n",
        "    else:\n",
        "      print(deq.popleft())\n",
        "  elif order[0] == 'pop_back':                  #pop_back -> 개수가 있으면 가장 뒤에것 빼기, 없으면 -1\n",
        "    if not deq:\n",
        "      print(-1)\n",
        "    else:\n",
        "      print(deq.pop())\n",
        "  elif order[0] == 'size':                      #deq 개수 출력\n",
        "    print(len(deq))\n",
        "  elif order[0] == 'empty':                     #비어있는지 여부 확인, 비었으면 1 아니면 0\n",
        "    if not deq:\n",
        "      print(1)                                  \n",
        "    else:\n",
        "      print(0)\n",
        "  elif order[0] == 'front':                     #front -> 가장 앞의 것 출력, 비었으면 -1\n",
        "    if not deq:\n",
        "      print(-1)\n",
        "    else:\n",
        "      print(int(deq[0]))\n",
        "  elif order[0] == 'back':                      #back -> 가장 뒤의 것 출력, 비었으면 -1\n",
        "    if not deq:\n",
        "      print(-1)\n",
        "    else:\n",
        "      print(int(deq[-1]))\n"
      ],
      "metadata": {
        "id": "GcVObrMgkcQ3"
      },
      "execution_count": null,
      "outputs": []
    }
  ]
}
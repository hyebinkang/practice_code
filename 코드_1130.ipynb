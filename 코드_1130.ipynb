{
  "nbformat": 4,
  "nbformat_minor": 0,
  "metadata": {
    "colab": {
      "provenance": [],
      "authorship_tag": "ABX9TyMpMux5exlGf6IGD21BTMxk",
      "include_colab_link": true
    },
    "kernelspec": {
      "name": "python3",
      "display_name": "Python 3"
    },
    "language_info": {
      "name": "python"
    }
  },
  "cells": [
    {
      "cell_type": "markdown",
      "metadata": {
        "id": "view-in-github",
        "colab_type": "text"
      },
      "source": [
        "<a href=\"https://colab.research.google.com/github/hyebinkang/practice_code/blob/main/%EC%BD%94%EB%93%9C_1130.ipynb\" target=\"_parent\"><img src=\"https://colab.research.google.com/assets/colab-badge.svg\" alt=\"Open In Colab\"/></a>"
      ]
    },
    {
      "cell_type": "code",
      "execution_count": null,
      "metadata": {
        "colab": {
          "base_uri": "https://localhost:8080/"
        },
        "id": "b1iAfvEzwbfK",
        "outputId": "270dcd25-cd66-437e-d37c-f20472287140"
      },
      "outputs": [
        {
          "output_type": "stream",
          "name": "stdout",
          "text": [
            "1\n",
            "1\n",
            "2\n",
            "0\n",
            "3\n",
            "4\n",
            "0\n",
            "5\n",
            "6\n",
            "0\n",
            "7\n",
            "0\n",
            "-1\n",
            "empty\n"
          ]
        }
      ],
      "source": [
        "#백준 15828 -> 시간초과\n",
        "\n",
        "n = int(input())\n",
        "n_list = [][:n]\n",
        "\n",
        "while True:\n",
        "    num = int(input())\n",
        "    if len(n_list)==n:\n",
        "        if num ==-1:\n",
        "            False\n",
        "            break\n",
        "        elif num == 0:\n",
        "            n_list.remove(n_list[0])\n",
        "        else:\n",
        "            continue\n",
        "    else:\n",
        "        if num ==-1:\n",
        "            False\n",
        "            break\n",
        "        elif num == 0:\n",
        "            n_list.remove(n_list[0])\n",
        "        else:\n",
        "            n_list.append(num)\n",
        "            \n",
        "if not n_list:\n",
        "    print('empty')\n",
        "else:\n",
        "    for i in range(len(n_list)):\n",
        "        print(n_list[i], end=' ')"
      ]
    },
    {
      "cell_type": "code",
      "source": [
        "#백준 15828\n",
        "from collections import deque\n",
        "import sys\n",
        "n = int(sys.stdin.readline())\n",
        "\n",
        "n_list = deque()\n",
        "\n",
        "\n",
        "while True:\n",
        "    num = int(sys.stdin.readline())\n",
        "    \n",
        "    if num == -1:\n",
        "        break\n",
        "    elif num ==0 and len(n_list) !=0:\n",
        "        n_list.popleft()\n",
        "    elif num !=0 and len(n_list) !=n:\n",
        "        n_list.append(num)\n",
        "\n",
        "if not n_list:\n",
        "    print('empty')\n",
        "else:\n",
        "    for i in range(len(n_list)):\n",
        "        print(n_list[i], end=' ')"
      ],
      "metadata": {
        "id": "gcvycZaF8YVD"
      },
      "execution_count": null,
      "outputs": []
    },
    {
      "cell_type": "code",
      "source": [
        "from collections import deque\n",
        "\n",
        "deq = deque()\n",
        "n = int(input())\n",
        "for _ in range(n):\n",
        "  order = list(map(str, input().split()))\n",
        "  \n",
        "  if order[0] == 'push_front':\n",
        "    deq.appendleft(int(order[1]))\n",
        "  elif order[0] == 'push_back':\n",
        "    deq.append(int(order[1]))\n",
        "  elif order[0] == 'pop_front':\n",
        "    if not deq:\n",
        "      print(-1)\n",
        "    else:\n",
        "      print(deq.popleft())\n",
        "  elif order[0] == 'pop_back':\n",
        "    if not deq:\n",
        "      print(-1)\n",
        "    else:\n",
        "      print(deq.pop())\n",
        "  elif order[0] == 'size':\n",
        "    print(len(deq))\n",
        "  elif order[0] == 'empty':\n",
        "    if not deq:\n",
        "      print(1)\n",
        "    else:\n",
        "      print(0)\n",
        "  elif order[0] == 'front':\n",
        "    if not deq:\n",
        "      print(-1)\n",
        "    else:\n",
        "      print(int(deq[0]))\n",
        "  elif order[0] == 'back':\n",
        "    if not deq:\n",
        "      print(-1)\n",
        "    else:\n",
        "      print(int(deq[-1]))\n"
      ],
      "metadata": {
        "id": "GcVObrMgkcQ3"
      },
      "execution_count": null,
      "outputs": []
    }
  ]
}
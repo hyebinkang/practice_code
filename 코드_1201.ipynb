{
  "nbformat": 4,
  "nbformat_minor": 0,
  "metadata": {
    "colab": {
      "provenance": [],
      "authorship_tag": "ABX9TyPGB8psUYMVxUmWlC22MACc",
      "include_colab_link": true
    },
    "kernelspec": {
      "name": "python3",
      "display_name": "Python 3"
    },
    "language_info": {
      "name": "python"
    }
  },
  "cells": [
    {
      "cell_type": "markdown",
      "metadata": {
        "id": "view-in-github",
        "colab_type": "text"
      },
      "source": [
        "<a href=\"https://colab.research.google.com/github/hyebinkang/practice_code/blob/main/%EC%BD%94%EB%93%9C_1201.ipynb\" target=\"_parent\"><img src=\"https://colab.research.google.com/assets/colab-badge.svg\" alt=\"Open In Colab\"/></a>"
      ]
    },
    {
      "cell_type": "code",
      "execution_count": null,
      "metadata": {
        "id": "jGKAe2z3PYlq"
      },
      "outputs": [],
      "source": [
        "#백준 2599 -> 시간초과\n",
        "import sys\n",
        "n, k = map(int, sys.stdin.readline().split())\n",
        "\n",
        "arr = list(map(int, sys.stdin.readline().split()))[:n]\n",
        "arr_sum = []\n",
        "for i in range(n-k+1):\n",
        "  arr_sum.append(sum(arr[i:k+i]))         #i번째 부터 k+i값 까지 더한 수를 리스트에 저장\n",
        "\n",
        "print(max(arr_sum))"
      ]
    },
    {
      "cell_type": "code",
      "source": [
        "#백준 2599  -> 통과\n",
        "import sys\n",
        "input = sys.stdin.readline\n",
        "\n",
        "n, k = map(int,input().split())\n",
        "a = list(map(int, input().split()))\n",
        "\n",
        "result = []\n",
        "result.append(sum(a[:k]))                   #먼저 ~k까지의 값을 더하기\n",
        "\n",
        "for i in range(n - k):\n",
        "    result.append(result[i] - a[i] + a[k+i])    #result[i]번째에서 a의 값을 제외하고 a[k+i]더하기\n",
        "        \n",
        "print(max(result))"
      ],
      "metadata": {
        "id": "k2_48uHufThO"
      },
      "execution_count": null,
      "outputs": []
    }
  ]
}